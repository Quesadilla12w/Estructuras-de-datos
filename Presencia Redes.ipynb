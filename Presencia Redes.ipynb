{
 "cells": [
  {
   "cell_type": "code",
   "execution_count": 1,
   "id": "284971ff",
   "metadata": {
    "scrolled": false
   },
   "outputs": [
    {
     "name": "stdout",
     "output_type": "stream",
     "text": [
      "El numero de seguidores en Enero es:\n",
      "62404\n",
      "El numero de seguidores en Junio es:\n",
      "67496\n",
      "La diferencia de seguidores es:\n",
      "5092\n"
     ]
    }
   ],
   "source": [
    "import csv\n",
    "\n",
    "\n",
    "\"\"\"\" Lea el archivo \"\"\"\n",
    "results = []\n",
    "with open('presenciaredes.csv') as File:\n",
    "    reader = csv.DictReader(File)\n",
    "    for row in reader:\n",
    "        results.append(row)\n",
    "\n",
    "\"\"\"Mostrar en pantalla la diferencia de seguidores (followers) en Twitter entre el mes de enero y junio.\"\"\"   \n",
    "\n",
    "Mes = results[7]\n",
    "Seguidores = [*Mes.values()]\n",
    "Valor = int(Seguidores[3])\n",
    "print(\"El numero de seguidores en Enero es:\")\n",
    "print(Valor)\n",
    "Valor2 = int(Seguidores[8])\n",
    "print(\"El numero de seguidores en Junio es:\")\n",
    "print(Valor2)\n",
    "DiferenciaDeSeguidores = Valor2-Valor\n",
    "print(\"La diferencia de seguidores es:\")\n",
    "print(DiferenciaDeSeguidores)\n",
    "\n"
   ]
  },
  {
   "cell_type": "code",
   "execution_count": 2,
   "id": "044c12a2",
   "metadata": {},
   "outputs": [
    {
     "name": "stdout",
     "output_type": "stream",
     "text": [
      "Ingresa el primer mes en minusculas:\n",
      "enero\n",
      "Ingresa el segundo mes en minusculas:\n",
      "junio\n",
      "La diferencia de visualizaciones es:\n",
      "5118\n"
     ]
    }
   ],
   "source": [
    "\"\"\"Permita calcular la diferencia de visualizaciones de YouTube entre los meses seleccionados por teclado\"\"\" \n",
    "\n",
    "\n",
    "\n",
    "print(\"Ingresa el primer mes en minusculas:\")\n",
    "Dato = input()\n",
    "Mes1 = results[15]\n",
    "Visualizaciones = [*Mes1.values()]\n",
    "\n",
    "if (Dato == 'enero'):\n",
    "    Valor = int(Visualizaciones[3])\n",
    "elif(Dato == 'febrero'):\n",
    "    Valor = int(Visualizaciones[4])\n",
    "elif(Dato == 'marzo'):\n",
    "    Valor = int(Visualizaciones[5])\n",
    "elif(Dato == 'abril'):\n",
    "    Valor = int(Visualizaciones[6])\n",
    "elif(Dato == 'mayo'):\n",
    "    Valor = int(Visualizaciones[7])\n",
    "elif(Dato == 'junio'):\n",
    "    Valor = int(Visualizaciones[8])\n",
    "else:\n",
    "    print(\"El mes que ingresaste no es valido\")\n",
    "\n",
    "    \n",
    "print(\"Ingresa el segundo mes en minusculas:\")\n",
    "Dato2 = input()\n",
    "\n",
    "if (Dato2 == 'enero'):\n",
    "    Valor2 = int(Visualizaciones[3])\n",
    "elif(Dato2 == 'febrero'):\n",
    "    Valor2 = int(Visualizaciones[4])\n",
    "elif(Dato2 == 'marzo'):\n",
    "    Valor2 = int(Visualizaciones[5])\n",
    "elif(Dato2 == 'abril'):\n",
    "    Valor2 = int(Visualizaciones[6])\n",
    "elif(Dato2 == 'mayo'):\n",
    "    Valor2 = int(Visualizaciones[7])\n",
    "elif(Dato2 == 'junio'):\n",
    "    Valor2 = int(Visualizaciones[8])\n",
    "else:\n",
    "    print(\"El mes que ingresaste no es valido\")\n",
    "print(\"La diferencia de visualizaciones es:\")\n",
    "print(Valor2-Valor)\n",
    "\n",
    "\n",
    "    \n",
    "    \n"
   ]
  },
  {
   "cell_type": "code",
   "execution_count": 3,
   "id": "5e5a5472",
   "metadata": {},
   "outputs": [
    {
     "name": "stdout",
     "output_type": "stream",
     "text": [
      "Ingresa el primer mes en minusculas:\n",
      "enero\n",
      "Ingresa el segundo mes en minusculas:\n",
      "junio\n",
      "La diferencia de visualizaciones es:\n",
      "4292.5\n"
     ]
    }
   ],
   "source": [
    "\"\"\" Calcular el promedio de crecimiento de  Facebook entre los meses de enero a junio.\"\"\"\n",
    "\n",
    "\n",
    "\n",
    "\n",
    "print(\"Ingresa el primer mes en minusculas:\")\n",
    "Dato3 = input()\n",
    "Mes2 = results[1]\n",
    "Crecimiento = [*Mes2.values()]\n",
    "\n",
    "if (Dato3 == 'enero'):\n",
    "    Valor3 = int(Crecimiento[3])\n",
    "elif(Dato3 == 'febrero'):\n",
    "    Valor3 = int(Crecimiento[4])\n",
    "elif(Dato3 == 'marzo'):\n",
    "    Valor3 = int(Crecimiento[5])\n",
    "elif(Dato3 == 'abril'):\n",
    "    Valor3 = int(Crecimiento[6])\n",
    "elif(Dato3 == 'mayo'):\n",
    "    Valor3 = int(Crecimiento[7])\n",
    "elif(Dato3 == 'junio'):\n",
    "    Valor3 = int(Crecimiento[8])\n",
    "else:\n",
    "    print(\"El mes que ingresaste no es valido\")\n",
    "\n",
    "    \n",
    "print(\"Ingresa el segundo mes en minusculas:\")\n",
    "Dato4 = input()\n",
    "\n",
    "if (Dato4 == 'enero'):\n",
    "    Valor4 = int(Crecimiento[3])\n",
    "elif(Dato4 == 'febrero'):\n",
    "    Valor4 = int(Crecimiento[4])\n",
    "elif(Dato4 == 'marzo'):\n",
    "    Valor4 = int(Crecimiento[5])\n",
    "elif(Dato4 == 'abril'):\n",
    "    Valor4 = int(Crecimiento[6])\n",
    "elif(Dato4 == 'mayo'):\n",
    "    Valor4 = int(Crecimiento[7])\n",
    "elif(Dato4 == 'junio'):\n",
    "    Valor4 = int(Crecimiento[8])\n",
    "else:\n",
    "    print(\"El mes que ingresaste no es valido\")\n",
    "print(\"El promedio de crecimiento de Facebook es de:\")\n",
    "print((Valor3+Valor4)/2)"
   ]
  },
  {
   "cell_type": "code",
   "execution_count": 4,
   "id": "30de0db3",
   "metadata": {},
   "outputs": [
    {
     "name": "stdout",
     "output_type": "stream",
     "text": [
      "Ingresa el primer mes en minusculas:\n",
      "enero\n",
      "Ingresa el segundo mes en minusculas:\n",
      "junio\n",
      "La diferencia de visualizaciones es:\n",
      "1002.0\n"
     ]
    }
   ],
   "source": [
    "\"\"\" Calcular el promedio de crecimiento de  Twitter entre los meses de enero a junio.\"\"\"\n",
    "\n",
    "\n",
    "\n",
    "\n",
    "print(\"Ingresa el primer mes en minusculas:\")\n",
    "Dato5 = input()\n",
    "Mes3 = results[8]\n",
    "CrecimientoT = [*Mes3.values()]\n",
    "\n",
    "if (Dato5 == 'enero'):\n",
    "    Valor5 = int(CrecimientoT[3])\n",
    "elif(Dato5 == 'febrero'):\n",
    "    Valor5 = int(CrecimientoT[4])\n",
    "elif(Dato5 == 'marzo'):\n",
    "    Valor5 = int(CrecimientoT[5])\n",
    "elif(Dato5 == 'abril'):\n",
    "    Valor5 = int(CrecimientoT[6])\n",
    "elif(Dato5 == 'mayo'):\n",
    "    Valor5 = int(CrecimientoT[7])\n",
    "elif(Dato5 == 'junio'):\n",
    "    Valor5 = int(CrecimientoT[8])\n",
    "else:\n",
    "    print(\"El mes que ingresaste no es valido\")\n",
    "\n",
    "    \n",
    "print(\"Ingresa el segundo mes en minusculas:\")\n",
    "Dato6 = input()\n",
    "\n",
    "if (Dato6 == 'enero'):\n",
    "    Valor6 = int(CrecimientoT[3])\n",
    "elif(Dato6 == 'febrero'):\n",
    "    Valor6 = int(CrecimientoT[4])\n",
    "elif(Dato6 == 'marzo'):\n",
    "    Valor6 = int(CrecimientoT[5])\n",
    "elif(Dato6 == 'abril'):\n",
    "    Valor6 = int(CrecimientoT[6])\n",
    "elif(Dato6 == 'mayo'):\n",
    "    Valor6 = int(CrecimientoT[7])\n",
    "elif(Dato6 == 'junio'):\n",
    "    Valor6 = int(CrecimientoT[8])\n",
    "else:\n",
    "    print(\"El mes que ingresaste no es valido\")\n",
    "print(\"El promedio de crecimiento de Twitter es de:\")\n",
    "print((Valor5+Valor6)/2)"
   ]
  }
 ],
 "metadata": {
  "kernelspec": {
   "display_name": "Python 3 (ipykernel)",
   "language": "python",
   "name": "python3"
  },
  "language_info": {
   "codemirror_mode": {
    "name": "ipython",
    "version": 3
   },
   "file_extension": ".py",
   "mimetype": "text/x-python",
   "name": "python",
   "nbconvert_exporter": "python",
   "pygments_lexer": "ipython3",
   "version": "3.10.4"
  }
 },
 "nbformat": 4,
 "nbformat_minor": 5
}
